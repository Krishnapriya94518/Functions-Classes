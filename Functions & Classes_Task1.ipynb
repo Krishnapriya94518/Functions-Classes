{
 "cells": [
  {
   "cell_type": "code",
   "execution_count": 2,
   "id": "eb1a0cd5-c582-4ea8-955d-5731f242e37c",
   "metadata": {},
   "outputs": [
    {
     "name": "stdin",
     "output_type": "stream",
     "text": [
      "Enter the first string:  helium\n",
      "Enter the second string:  him\n"
     ]
    },
    {
     "name": "stdout",
     "output_type": "stream",
     "text": [
      "\"him\" can be built from \"helium\".\n"
     ]
    }
   ],
   "source": [
    "def can_build_from(first_string, second_string):\n",
    "\n",
    "    first_string = first_string.lower()\n",
    "    second_string = second_string.lower()\n",
    "    \n",
    "    letter_count = {}\n",
    "    \n",
    "    for letter in first_string:\n",
    "        if letter in letter_count:\n",
    "            letter_count[letter] += 1\n",
    "        else:\n",
    "            letter_count[letter] = 1\n",
    "            \n",
    "\n",
    "    for letter in second_string:\n",
    "        if letter in letter_count and letter_count[letter] > 0:\n",
    "            letter_count[letter] -= 1\n",
    "        else:\n",
    "            return False\n",
    "    \n",
    "    return True\n",
    "\n",
    "str1 = input(\"Enter the first string: \")\n",
    "str2 = input(\"Enter the second string: \")\n",
    "\n",
    "if can_build_from(str1, str2):\n",
    "    print(f'\"{str2}\" can be built from \"{str1}\".')\n",
    "else:\n",
    "    print(f'\"{str2}\" cannot be built from \"{str1}\".')"
   ]
  },
  {
   "cell_type": "code",
   "execution_count": null,
   "id": "1ffbe287-c683-46d6-97a2-7f4dbdceb266",
   "metadata": {},
   "outputs": [],
   "source": []
  }
 ],
 "metadata": {
  "kernelspec": {
   "display_name": "Python 3 (ipykernel)",
   "language": "python",
   "name": "python3"
  },
  "language_info": {
   "codemirror_mode": {
    "name": "ipython",
    "version": 3
   },
   "file_extension": ".py",
   "mimetype": "text/x-python",
   "name": "python",
   "nbconvert_exporter": "python",
   "pygments_lexer": "ipython3",
   "version": "3.12.7"
  }
 },
 "nbformat": 4,
 "nbformat_minor": 5
}
